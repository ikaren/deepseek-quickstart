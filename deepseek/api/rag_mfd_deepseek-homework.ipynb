{
 "cells": [
  {
   "cell_type": "markdown",
   "id": "20549885",
   "metadata": {},
   "source": [
    "# 使用 Milvus 和 DeepSeek 构建 RAG\n",
    "\n",
    "DeepSeek 帮助开发者使用高性能语言模型构建和扩展 AI 应用。它提供高效的推理、灵活的 API 以及先进的专家混合 (MoE) 架构，用于强大的推理和检索任务。\n",
    "\n",
    "在本教程中，我们将展示如何使用 Milvus 和 DeepSeek 构建一个检索增强生成 (RAG) 管道。"
   ]
  },
  {
   "cell_type": "markdown",
   "id": "7394c701",
   "metadata": {},
   "source": [
    "## 准备工作"
   ]
  },
  {
   "cell_type": "code",
   "execution_count": 86,
   "id": "1cad42fd-13df-487c-b12c-6448312c1b87",
   "metadata": {},
   "outputs": [
    {
     "name": "stderr",
     "output_type": "stream",
     "text": [
      "huggingface/tokenizers: The current process just got forked, after parallelism has already been used. Disabling parallelism to avoid deadlocks...\n",
      "To disable this warning, you can either:\n",
      "\t- Avoid using `tokenizers` before the fork if possible\n",
      "\t- Explicitly set the environment variable TOKENIZERS_PARALLELISM=(true | false)\n"
     ]
    },
    {
     "name": "stdout",
     "output_type": "stream",
     "text": [
      "Requirement already satisfied: sentence-transformers in /root/miniconda3/envs/deepseek/lib/python3.13/site-packages (5.0.0)\n",
      "Requirement already satisfied: transformers<5.0.0,>=4.41.0 in /root/miniconda3/envs/deepseek/lib/python3.13/site-packages (from sentence-transformers) (4.53.2)\n",
      "Requirement already satisfied: tqdm in /root/miniconda3/envs/deepseek/lib/python3.13/site-packages (from sentence-transformers) (4.67.1)\n",
      "Requirement already satisfied: torch>=1.11.0 in /root/miniconda3/envs/deepseek/lib/python3.13/site-packages (from sentence-transformers) (2.7.0)\n",
      "Requirement already satisfied: scikit-learn in /root/miniconda3/envs/deepseek/lib/python3.13/site-packages (from sentence-transformers) (1.7.1)\n",
      "Requirement already satisfied: scipy in /root/miniconda3/envs/deepseek/lib/python3.13/site-packages (from sentence-transformers) (1.16.0)\n",
      "Requirement already satisfied: huggingface-hub>=0.20.0 in /root/miniconda3/envs/deepseek/lib/python3.13/site-packages (from sentence-transformers) (0.33.4)\n",
      "Requirement already satisfied: Pillow in /root/miniconda3/envs/deepseek/lib/python3.13/site-packages (from sentence-transformers) (11.3.0)\n",
      "Requirement already satisfied: typing_extensions>=4.5.0 in /root/miniconda3/envs/deepseek/lib/python3.13/site-packages (from sentence-transformers) (4.14.1)\n",
      "Requirement already satisfied: filelock in /root/miniconda3/envs/deepseek/lib/python3.13/site-packages (from transformers<5.0.0,>=4.41.0->sentence-transformers) (3.18.0)\n",
      "Requirement already satisfied: numpy>=1.17 in /root/miniconda3/envs/deepseek/lib/python3.13/site-packages (from transformers<5.0.0,>=4.41.0->sentence-transformers) (2.3.1)\n",
      "Requirement already satisfied: packaging>=20.0 in /root/miniconda3/envs/deepseek/lib/python3.13/site-packages (from transformers<5.0.0,>=4.41.0->sentence-transformers) (25.0)\n",
      "Requirement already satisfied: pyyaml>=5.1 in /root/miniconda3/envs/deepseek/lib/python3.13/site-packages (from transformers<5.0.0,>=4.41.0->sentence-transformers) (6.0.2)\n",
      "Requirement already satisfied: regex!=2019.12.17 in /root/miniconda3/envs/deepseek/lib/python3.13/site-packages (from transformers<5.0.0,>=4.41.0->sentence-transformers) (2024.11.6)\n",
      "Requirement already satisfied: requests in /root/miniconda3/envs/deepseek/lib/python3.13/site-packages (from transformers<5.0.0,>=4.41.0->sentence-transformers) (2.32.3)\n",
      "Requirement already satisfied: tokenizers<0.22,>=0.21 in /root/miniconda3/envs/deepseek/lib/python3.13/site-packages (from transformers<5.0.0,>=4.41.0->sentence-transformers) (0.21.2)\n",
      "Requirement already satisfied: safetensors>=0.4.3 in /root/miniconda3/envs/deepseek/lib/python3.13/site-packages (from transformers<5.0.0,>=4.41.0->sentence-transformers) (0.5.3)\n",
      "Requirement already satisfied: fsspec>=2023.5.0 in /root/miniconda3/envs/deepseek/lib/python3.13/site-packages (from huggingface-hub>=0.20.0->sentence-transformers) (2025.5.1)\n",
      "Requirement already satisfied: hf-xet<2.0.0,>=1.1.2 in /root/miniconda3/envs/deepseek/lib/python3.13/site-packages (from huggingface-hub>=0.20.0->sentence-transformers) (1.1.5)\n",
      "Requirement already satisfied: setuptools in /root/miniconda3/envs/deepseek/lib/python3.13/site-packages (from torch>=1.11.0->sentence-transformers) (78.1.1)\n",
      "Requirement already satisfied: sympy>=1.13.3 in /root/miniconda3/envs/deepseek/lib/python3.13/site-packages (from torch>=1.11.0->sentence-transformers) (1.14.0)\n",
      "Requirement already satisfied: networkx in /root/miniconda3/envs/deepseek/lib/python3.13/site-packages (from torch>=1.11.0->sentence-transformers) (3.5)\n",
      "Requirement already satisfied: jinja2 in /root/miniconda3/envs/deepseek/lib/python3.13/site-packages (from torch>=1.11.0->sentence-transformers) (3.1.6)\n",
      "Requirement already satisfied: nvidia-cuda-nvrtc-cu12==12.6.77 in /root/miniconda3/envs/deepseek/lib/python3.13/site-packages (from torch>=1.11.0->sentence-transformers) (12.6.77)\n",
      "Requirement already satisfied: nvidia-cuda-runtime-cu12==12.6.77 in /root/miniconda3/envs/deepseek/lib/python3.13/site-packages (from torch>=1.11.0->sentence-transformers) (12.6.77)\n",
      "Requirement already satisfied: nvidia-cuda-cupti-cu12==12.6.80 in /root/miniconda3/envs/deepseek/lib/python3.13/site-packages (from torch>=1.11.0->sentence-transformers) (12.6.80)\n",
      "Requirement already satisfied: nvidia-cudnn-cu12==9.5.1.17 in /root/miniconda3/envs/deepseek/lib/python3.13/site-packages (from torch>=1.11.0->sentence-transformers) (9.5.1.17)\n",
      "Requirement already satisfied: nvidia-cublas-cu12==12.6.4.1 in /root/miniconda3/envs/deepseek/lib/python3.13/site-packages (from torch>=1.11.0->sentence-transformers) (12.6.4.1)\n",
      "Requirement already satisfied: nvidia-cufft-cu12==11.3.0.4 in /root/miniconda3/envs/deepseek/lib/python3.13/site-packages (from torch>=1.11.0->sentence-transformers) (11.3.0.4)\n",
      "Requirement already satisfied: nvidia-curand-cu12==10.3.7.77 in /root/miniconda3/envs/deepseek/lib/python3.13/site-packages (from torch>=1.11.0->sentence-transformers) (10.3.7.77)\n",
      "Requirement already satisfied: nvidia-cusolver-cu12==11.7.1.2 in /root/miniconda3/envs/deepseek/lib/python3.13/site-packages (from torch>=1.11.0->sentence-transformers) (11.7.1.2)\n",
      "Requirement already satisfied: nvidia-cusparse-cu12==12.5.4.2 in /root/miniconda3/envs/deepseek/lib/python3.13/site-packages (from torch>=1.11.0->sentence-transformers) (12.5.4.2)\n",
      "Requirement already satisfied: nvidia-cusparselt-cu12==0.6.3 in /root/miniconda3/envs/deepseek/lib/python3.13/site-packages (from torch>=1.11.0->sentence-transformers) (0.6.3)\n",
      "Requirement already satisfied: nvidia-nccl-cu12==2.26.2 in /root/miniconda3/envs/deepseek/lib/python3.13/site-packages (from torch>=1.11.0->sentence-transformers) (2.26.2)\n",
      "Requirement already satisfied: nvidia-nvtx-cu12==12.6.77 in /root/miniconda3/envs/deepseek/lib/python3.13/site-packages (from torch>=1.11.0->sentence-transformers) (12.6.77)\n",
      "Requirement already satisfied: nvidia-nvjitlink-cu12==12.6.85 in /root/miniconda3/envs/deepseek/lib/python3.13/site-packages (from torch>=1.11.0->sentence-transformers) (12.6.85)\n",
      "Requirement already satisfied: nvidia-cufile-cu12==1.11.1.6 in /root/miniconda3/envs/deepseek/lib/python3.13/site-packages (from torch>=1.11.0->sentence-transformers) (1.11.1.6)\n",
      "Requirement already satisfied: triton==3.3.0 in /root/miniconda3/envs/deepseek/lib/python3.13/site-packages (from torch>=1.11.0->sentence-transformers) (3.3.0)\n",
      "Requirement already satisfied: mpmath<1.4,>=1.1.0 in /root/miniconda3/envs/deepseek/lib/python3.13/site-packages (from sympy>=1.13.3->torch>=1.11.0->sentence-transformers) (1.3.0)\n",
      "Requirement already satisfied: MarkupSafe>=2.0 in /root/miniconda3/envs/deepseek/lib/python3.13/site-packages (from jinja2->torch>=1.11.0->sentence-transformers) (3.0.2)\n",
      "Requirement already satisfied: charset-normalizer<4,>=2 in /root/miniconda3/envs/deepseek/lib/python3.13/site-packages (from requests->transformers<5.0.0,>=4.41.0->sentence-transformers) (3.4.2)\n",
      "Requirement already satisfied: idna<4,>=2.5 in /root/miniconda3/envs/deepseek/lib/python3.13/site-packages (from requests->transformers<5.0.0,>=4.41.0->sentence-transformers) (3.10)\n",
      "Requirement already satisfied: urllib3<3,>=1.21.1 in /root/miniconda3/envs/deepseek/lib/python3.13/site-packages (from requests->transformers<5.0.0,>=4.41.0->sentence-transformers) (2.5.0)\n",
      "Requirement already satisfied: certifi>=2017.4.17 in /root/miniconda3/envs/deepseek/lib/python3.13/site-packages (from requests->transformers<5.0.0,>=4.41.0->sentence-transformers) (2025.7.9)\n",
      "Requirement already satisfied: joblib>=1.2.0 in /root/miniconda3/envs/deepseek/lib/python3.13/site-packages (from scikit-learn->sentence-transformers) (1.5.1)\n",
      "Requirement already satisfied: threadpoolctl>=3.1.0 in /root/miniconda3/envs/deepseek/lib/python3.13/site-packages (from scikit-learn->sentence-transformers) (3.6.0)\n",
      "\u001b[33mWARNING: Running pip as the 'root' user can result in broken permissions and conflicting behaviour with the system package manager, possibly rendering your system unusable. It is recommended to use a virtual environment instead: https://pip.pypa.io/warnings/venv. Use the --root-user-action option if you know what you are doing and want to suppress this warning.\u001b[0m\u001b[33m\n",
      "\u001b[0m"
     ]
    }
   ],
   "source": [
    "!pip install sentence-transformers"
   ]
  },
  {
   "cell_type": "code",
   "execution_count": 95,
   "id": "375ad823",
   "metadata": {},
   "outputs": [],
   "source": [
    "import os\n",
    "\n",
    "# 从环境变量获取 DeepSeek API Key\n",
    "api_key = os.getenv(\"DEEPSEEK_API_KEY\")"
   ]
  },
  {
   "cell_type": "code",
   "execution_count": 96,
   "id": "17fbb055-62c9-4aed-8cd2-5b6affa8bf2c",
   "metadata": {},
   "outputs": [
    {
     "name": "stdout",
     "output_type": "stream",
     "text": [
      "共提取 355 个条文\n",
      "入库完成\n"
     ]
    }
   ],
   "source": [
    "from pymilvus import MilvusClient\n",
    "from sentence_transformers import SentenceTransformer\n",
    "import re\n",
    "\n",
    "# 初始化\n",
    "milvus_client = MilvusClient(uri=\"./milvus_mfd.db\")\n",
    "collection_name = \"mfd_rag_collection\"\n",
    "\n",
    "# 删除旧的 collection\n",
    "if milvus_client.has_collection(collection_name):\n",
    "    milvus_client.drop_collection(collection_name)\n",
    "\n",
    "# 创建新 collection\n",
    "milvus_client.create_collection(\n",
    "    collection_name=collection_name,\n",
    "    dimension=768,\n",
    "    metric_type=\"COSINE\",\n",
    "    consistency_level=\"Strong\"\n",
    ")\n",
    "\n",
    "# 加载 & 切分文档\n",
    "text_lines = []\n",
    "with open(\"mfd.md\", \"r\", encoding=\"utf-8\") as f:\n",
    "    text = f.read()\n",
    "\n",
    "# 按条文编号切分\n",
    "chunks = re.split(r'(?=\\*\\*第[一二三四五六七八九十百]+条\\*\\*)', text)\n",
    "for chunk in chunks:\n",
    "    chunk = chunk.strip()\n",
    "    if not chunk:\n",
    "        continue\n",
    "    lines = chunk.splitlines()\n",
    "    title = lines[0].strip()\n",
    "    content = \" \".join(line.strip() for line in lines[1:] if line.strip())\n",
    "    text_lines.append(f\"{title} {content}\")\n",
    "\n",
    "print(f\"共提取 {len(text_lines)} 个条文\")\n",
    "\n",
    "# 生成向量\n",
    "embedding_model = SentenceTransformer(\"shibing624/text2vec-base-chinese\")\n",
    "doc_embeddings = embedding_model.encode(text_lines)\n",
    "\n",
    "# 插入到 Milvus\n",
    "data = []\n",
    "for i, line in enumerate(text_lines):\n",
    "    data.append({\"id\": i, \"vector\": doc_embeddings[i], \"text\": line})\n",
    "\n",
    "milvus_client.insert(collection_name=collection_name, data=data)\n",
    "\n",
    "print(\"入库完成\")\n"
   ]
  },
  {
   "cell_type": "code",
   "execution_count": 97,
   "id": "3bb8d1a1-d942-43aa-9836-d45e67d741ce",
   "metadata": {},
   "outputs": [],
   "source": [
    "def extract_article_number(question: str):\n",
    "    \"\"\"提取问题中的条文编号\"\"\"\n",
    "    m = re.search(r\"第二百[一二三四五六七八九十百]+条\", question)\n",
    "    if m:\n",
    "        return m.group(0)\n",
    "    return None\n",
    "\n",
    "def vector_search(question, milvus_client, embedding_model):\n",
    "    \"\"\"向量检索\"\"\"\n",
    "    query_vec = embedding_model.encode([question])\n",
    "    search_res = milvus_client.search(\n",
    "        collection_name=collection_name,\n",
    "        data=query_vec,\n",
    "        limit=3,\n",
    "        search_params={\"metric_type\": \"COSINE\", \"params\": {}},\n",
    "        output_fields=[\"text\"]\n",
    "    )\n",
    "    results = [res.entity.get(\"text\") for res in search_res[0]]\n",
    "    return results\n",
    "\n",
    "def retrieve_context(question):\n",
    "    \"\"\"先编号检索 → fallback 向量检索\"\"\"\n",
    "    article_number = extract_article_number(question)\n",
    "\n",
    "    if article_number:\n",
    "        for line in text_lines:\n",
    "            if article_number in line:\n",
    "                print(f\"找到编号匹配: {article_number}\")\n",
    "                return [line]\n",
    "        print(f\"❓ 未找到编号匹配，使用语义检索\")\n",
    "\n",
    "    results = vector_search(question, milvus_client, embedding_model)\n",
    "    return results\n"
   ]
  },
  {
   "cell_type": "code",
   "execution_count": 98,
   "id": "fcbd636a-985b-4647-a006-ccb541e19ecd",
   "metadata": {},
   "outputs": [],
   "source": [
    "import os\n",
    "from openai import OpenAI\n",
    "\n",
    "api_key = os.getenv(\"DEEPSEEK_API_KEY\")\n",
    "if not api_key:\n",
    "    raise ValueError(\"没有检测到环境变量 DEEPSEEK_API_KEY，请先设置。\")\n",
    "\n",
    "deepseek_client = OpenAI(\n",
    "    api_key=api_key,\n",
    "    base_url=\"https://api.deepseek.com/v1\"\n",
    ")\n"
   ]
  },
  {
   "cell_type": "code",
   "execution_count": 99,
   "id": "3e23d98f-f933-4d1c-8e06-98d640c3daee",
   "metadata": {},
   "outputs": [],
   "source": [
    "def ask_deepseek(question, contexts):\n",
    "    SYSTEM_PROMPT = \"\"\"\n",
    "你是一个 AI 法律助手。你能够从提供的上下文段落中找到问题的答案。\n",
    "如果上下文中没有答案，请直接回答“未找到”。\n",
    "\"\"\"\n",
    "\n",
    "    USER_PROMPT = f\"\"\"\n",
    "请根据 <context> 中的内容回答 <question> 中的问题。如果找不到答案，请回答“未找到”。\n",
    "<context>\n",
    "{\"\\n\".join(contexts)}\n",
    "</context>\n",
    "<question>\n",
    "{question}\n",
    "</question>\n",
    "<translated>\n",
    "</translated>\n",
    "\"\"\"\n",
    "\n",
    "    response = deepseek_client.chat.completions.create(\n",
    "        model=\"deepseek-chat\",\n",
    "        messages=[\n",
    "            {\"role\": \"system\", \"content\": SYSTEM_PROMPT},\n",
    "            {\"role\": \"user\", \"content\": USER_PROMPT},\n",
    "        ],\n",
    "    )\n",
    "\n",
    "    if response and response.choices:\n",
    "        content = response.choices[0].message.content.strip()\n",
    "        print(\"\\nDeepSeek 回答：\")\n",
    "        print(content)\n",
    "    else:\n",
    "        print(\"DeepSeek 没有返回结果\")\n"
   ]
  },
  {
   "cell_type": "code",
   "execution_count": 100,
   "id": "11603f7f-71f0-4054-9609-df23f0795551",
   "metadata": {},
   "outputs": [
    {
     "name": "stdout",
     "output_type": "stream",
     "text": [
      "找到编号匹配: 第二百三十三条\n",
      "\n",
      "检索结果:\n",
      "【Top1】 **第二百三十三条** 善意取得。 无处分权人将不动产或者动产转让给受让人，受让人取得该不动产或者动产时是善意，且该不动产或者动产已经登记或者交付的，受让人取得该不动产或者动产的所有权。 受让人依照前款规定取得不动产或者动产的所有权的，原权利人有权向无处分权人请求损害赔偿。 当事人善意取得其他物权的，参照适用前两款规定。\n",
      "--------------------------------------------------\n",
      "\n",
      "DeepSeek 回答：\n",
      "民法典的第二百三十三条内容是关于善意取得的规定，具体如下：\n",
      "\n",
      "**第二百三十三条** 善意取得。 无处分权人将不动产或者动产转让给受让人，受让人取得该不动产或者动产时是善意，且该不动产或者动产已经登记或者交付的，受让人取得该不动产或者动产的所有权。 受让人依照前款规定取得不动产或者动产的所有权的，原权利人有权向无处分权人请求损害赔偿。 当事人善意取得其他物权的，参照适用前两款规定。\n"
     ]
    }
   ],
   "source": [
    "question = \"民法典的第二百三十三条内容是什么？\"\n",
    "\n",
    "contexts = retrieve_context(question)\n",
    "\n",
    "print(\"\\n检索结果:\")\n",
    "for i, ctx in enumerate(contexts, 1):\n",
    "    print(f\"【Top{i}】 {ctx}\\n{'-'*50}\")\n",
    "\n",
    "# 调用 deepseek\n",
    "ask_deepseek(question, contexts)\n"
   ]
  },
  {
   "cell_type": "code",
   "execution_count": 101,
   "id": "b260c986-cabc-4236-bf48-1ea7626d7f61",
   "metadata": {},
   "outputs": [
    {
     "name": "stdout",
     "output_type": "stream",
     "text": [
      "\n",
      "检索结果:\n",
      "【Top1】 **第四百七十四条** 占有人合法占有动产的，善意取得人取得该动产所有权。 占有人非法占有动产的，善意取得人取得该动产所有权。\n",
      "--------------------------------------------------\n",
      "【Top2】 **第二百三十三条** 善意取得。 无处分权人将不动产或者动产转让给受让人，受让人取得该不动产或者动产时是善意，且该不动产或者动产已经登记或者交付的，受让人取得该不动产或者动产的所有权。 受让人依照前款规定取得不动产或者动产的所有权的，原权利人有权向无处分权人请求损害赔偿。 当事人善意取得其他物权的，参照适用前两款规定。\n",
      "--------------------------------------------------\n",
      "【Top3】 **第四百七十五条** 占有物毁损、灭失的，占有人应当承担赔偿责任。 占有人善意占有物的，不承担赔偿责任。 占有人恶意占有物的，应当承担赔偿责任。\n",
      "--------------------------------------------------\n",
      "\n",
      "DeepSeek 回答：\n",
      "根据上下文，善意取得是指无处分权人将不动产或者动产转让给受让人时，如果受让人在取得该不动产或动产时是善意的（即不知道或不应当知道转让人无处分权），并且该不动产或动产已经完成登记或交付手续，那么受让人可以取得该不动产或动产的所有权。原权利人有权向无处分权人请求损害赔偿。此外，善意取得的规定也适用于其他物权的取得。\n"
     ]
    }
   ],
   "source": [
    "question = \"什么是善意取得？\"\n",
    "\n",
    "contexts = retrieve_context(question)\n",
    "\n",
    "print(\"\\n检索结果:\")\n",
    "for i, ctx in enumerate(contexts, 1):\n",
    "    print(f\"【Top{i}】 {ctx}\\n{'-'*50}\")\n",
    "\n",
    "# 调用 deepseek\n",
    "ask_deepseek(question, contexts)\n"
   ]
  },
  {
   "cell_type": "code",
   "execution_count": null,
   "id": "334a4b94-dea5-4401-8e34-a38bb92937a1",
   "metadata": {},
   "outputs": [],
   "source": []
  },
  {
   "cell_type": "code",
   "execution_count": null,
   "id": "5749adba-c25f-4aae-ab86-8c14476e51ec",
   "metadata": {},
   "outputs": [],
   "source": []
  }
 ],
 "metadata": {
  "kernelspec": {
   "display_name": "Python 3 (ipykernel)",
   "language": "python",
   "name": "python3"
  },
  "language_info": {
   "codemirror_mode": {
    "name": "ipython",
    "version": 3
   },
   "file_extension": ".py",
   "mimetype": "text/x-python",
   "name": "python",
   "nbconvert_exporter": "python",
   "pygments_lexer": "ipython3",
   "version": "3.13.5"
  }
 },
 "nbformat": 4,
 "nbformat_minor": 5
}
